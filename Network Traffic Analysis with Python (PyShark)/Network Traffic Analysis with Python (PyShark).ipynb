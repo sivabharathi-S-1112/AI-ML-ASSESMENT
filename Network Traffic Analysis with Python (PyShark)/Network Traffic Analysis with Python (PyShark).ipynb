{
 "cells": [
  {
   "cell_type": "code",
   "execution_count": 1,
   "id": "4c0238c2-393e-4d53-8203-87bfaa18e0bd",
   "metadata": {},
   "outputs": [
    {
     "name": "stdout",
     "output_type": "stream",
     "text": [
      "Requirement already satisfied: pyshark in c:\\users\\ashwinbarath\\anaconda3\\lib\\site-packages (0.6)\n",
      "Requirement already satisfied: lxml in c:\\users\\ashwinbarath\\anaconda3\\lib\\site-packages (from pyshark) (5.3.0)\n",
      "Requirement already satisfied: termcolor in c:\\users\\ashwinbarath\\anaconda3\\lib\\site-packages (from pyshark) (3.1.0)\n",
      "Requirement already satisfied: packaging in c:\\users\\ashwinbarath\\anaconda3\\lib\\site-packages (from pyshark) (24.2)\n",
      "Requirement already satisfied: appdirs in c:\\users\\ashwinbarath\\anaconda3\\lib\\site-packages (from pyshark) (1.4.4)\n"
     ]
    }
   ],
   "source": [
    "!pip install pyshark"
   ]
  },
  {
   "cell_type": "code",
   "execution_count": 2,
   "id": "4ab7d473-de69-4182-becf-427cc4bd3cd2",
   "metadata": {},
   "outputs": [
    {
     "name": "stdout",
     "output_type": "stream",
     "text": [
      "assignment1.py created!\n"
     ]
    }
   ],
   "source": [
    "code = '''import pyshark\n",
    "\n",
    "# Optional: Set TShark path if needed\n",
    "# import pyshark.tshark.tshark\n",
    "# pyshark.tshark.tshark.get_tshark_path = lambda: \"C:\\\\\\\\Program Files\\\\\\\\Wireshark\\\\\\\\tshark.exe\"\n",
    "\n",
    "# Load .pcap file\n",
    "cap = pyshark.FileCapture(\"http.cap\")\n",
    "\n",
    "print(\"First 5 Packets:\")\n",
    "for i, packet in enumerate(cap):\n",
    "    if i == 5:\n",
    "        break\n",
    "    try:\n",
    "        print(f\"Packet {i+1}\")\n",
    "        print(f\"  • Number          : {packet.number}\")\n",
    "        print(f\"  • Length          : {packet.length}\")\n",
    "        print(f\"  • Highest Layer   : {packet.highest_layer}\")\n",
    "        print(f\"  • Transport Layer : {packet.transport_layer}\")\n",
    "        print(\"-\" * 50)\n",
    "    except AttributeError as e:\n",
    "        print(f\"Skipping packet {i + 1}: {e}\")\n",
    "'''\n",
    "\n",
    "# Save to assignment1.py\n",
    "with open(\"assignment1.py\", \"w\", encoding=\"utf-8\") as f:\n",
    "    f.write(code)\n",
    "\n",
    "print(\"assignment1.py created!\")\n"
   ]
  },
  {
   "cell_type": "code",
   "execution_count": 3,
   "id": "b9e3327e-e5a5-4f3a-a79e-7cd49bfacf33",
   "metadata": {},
   "outputs": [
    {
     "name": "stdout",
     "output_type": "stream",
     "text": [
      "First 5 Packets:\n",
      "Packet 1\n",
      "  • Number          : 1\n",
      "  • Length          : 62\n",
      "  • Highest Layer   : TCP\n",
      "  • Transport Layer : TCP\n",
      "--------------------------------------------------\n",
      "Packet 2\n",
      "  • Number          : 2\n",
      "  • Length          : 62\n",
      "  • Highest Layer   : TCP\n",
      "  • Transport Layer : TCP\n",
      "--------------------------------------------------\n",
      "Packet 3\n",
      "  • Number          : 3\n",
      "  • Length          : 54\n",
      "  • Highest Layer   : TCP\n",
      "  • Transport Layer : TCP\n",
      "--------------------------------------------------\n",
      "Packet 4\n",
      "  • Number          : 4\n",
      "  • Length          : 533\n",
      "  • Highest Layer   : HTTP\n",
      "  • Transport Layer : TCP\n",
      "--------------------------------------------------\n",
      "Packet 5\n",
      "  • Number          : 5\n",
      "  • Length          : 54\n",
      "  • Highest Layer   : TCP\n",
      "  • Transport Layer : TCP\n",
      "--------------------------------------------------\n"
     ]
    }
   ],
   "source": [
    "!python assignment1.py"
   ]
  },
  {
   "cell_type": "code",
   "execution_count": 4,
   "id": "fbd97401-abb7-4196-b67e-c65060c53ba7",
   "metadata": {},
   "outputs": [
    {
     "name": "stdout",
     "output_type": "stream",
     "text": [
      "assignment2.py\n"
     ]
    }
   ],
   "source": [
    "code = '''import pyshark\n",
    "from collections import Counter\n",
    "\n",
    "# Optional: Set TShark path if needed\n",
    "# import pyshark.tshark.tshark\n",
    "# pyshark.tshark.tshark.get_tshark_path = lambda: \"C:\\\\\\\\Program Files\\\\\\\\Wireshark\\\\\\\\tshark.exe\"\n",
    "\n",
    "cap = pyshark.FileCapture(\"http.cap\")\n",
    "\n",
    "ip_counter = Counter()\n",
    "\n",
    "print(\"Analyzing packets to count top IP Talkers...\")\n",
    "\n",
    "for packet in cap:\n",
    "    try:\n",
    "        if 'IP' in packet:\n",
    "            src_ip = packet.ip.src\n",
    "            ip_counter[src_ip] += 1\n",
    "    except AttributeError:\n",
    "        continue  # skip if IP layer missing\n",
    "\n",
    "print(\"\\\\nTop 5 IP Talkers:\")\n",
    "for ip, count in ip_counter.most_common(5):\n",
    "    print(f\"{ip} -> {count} packets\")\n",
    "'''\n",
    "\n",
    "# Overwrite assignment2.py\n",
    "with open(\"assignment2.py\", \"w\", encoding=\"utf-8\") as f:\n",
    "    f.write(code)\n",
    "\n",
    "print(\"assignment2.py\")\n"
   ]
  },
  {
   "cell_type": "code",
   "execution_count": 5,
   "id": "c4c7f22c-9ecd-4fac-bda4-6a00b43c411d",
   "metadata": {},
   "outputs": [
    {
     "name": "stdout",
     "output_type": "stream",
     "text": [
      "Analyzing packets to count top IP Talkers...\n",
      "\n",
      "Top 5 IP Talkers:\n",
      "145.254.160.237 -> 20 packets\n",
      "65.208.228.223 -> 18 packets\n",
      "216.239.59.99 -> 4 packets\n",
      "145.253.2.203 -> 1 packets\n"
     ]
    }
   ],
   "source": [
    "!python assignment2.py"
   ]
  },
  {
   "cell_type": "code",
   "execution_count": 6,
   "id": "6573bb3d-df21-4fd3-8cb8-61e6b9bcbea8",
   "metadata": {},
   "outputs": [
    {
     "name": "stdout",
     "output_type": "stream",
     "text": [
      "assignment3.py created!\n"
     ]
    }
   ],
   "source": [
    "code = '''import pyshark\n",
    "\n",
    "# Optional: Set TShark path if needed\n",
    "# import pyshark.tshark.tshark\n",
    "# pyshark.tshark.tshark.get_tshark_path = lambda: \"C:\\\\\\\\Program Files\\\\\\\\Wireshark\\\\\\\\tshark.exe\"\n",
    "\n",
    "# Load HTTP packets only\n",
    "cap = pyshark.FileCapture(\"http.cap\", display_filter=\"http.request\")\n",
    "\n",
    "print(\"HTTP Requests Found:\")\n",
    "\n",
    "for packet in cap:\n",
    "    try:\n",
    "        host = packet.http.host\n",
    "        uri = packet.http.request_uri\n",
    "        full_url = f\"http://{host}{uri}\"\n",
    "        \n",
    "        print(f\"Host     : {host}\")\n",
    "        print(f\"URI      : {uri}\")\n",
    "        print(f\"Full URL : {full_url}\")\n",
    "        print(\"-\" * 40)\n",
    "        \n",
    "    except AttributeError:\n",
    "        continue\n",
    "'''\n",
    "\n",
    "# Save it to assignment3.py\n",
    "with open(\"assignment3.py\", \"w\", encoding=\"utf-8\") as f:\n",
    "    f.write(code)\n",
    "\n",
    "print(\"assignment3.py created!\")\n"
   ]
  },
  {
   "cell_type": "code",
   "execution_count": 7,
   "id": "e614108b-f352-45aa-a946-6696d5a7811c",
   "metadata": {},
   "outputs": [
    {
     "name": "stdout",
     "output_type": "stream",
     "text": [
      "HTTP Requests Found:\n",
      "Host     : www.ethereal.com\n",
      "URI      : /download.html\n",
      "Full URL : http://www.ethereal.com/download.html\n",
      "----------------------------------------\n",
      "Host     : pagead2.googlesyndication.com\n",
      "URI      : /pagead/ads?client=ca-pub-2309191948673629&random=1084443430285&lmt=1082467020&format=468x60_as&output=html&url=http%3A%2F%2Fwww.ethereal.com%2Fdownload.html&color_bg=FFFFFF&color_text=333333&color_link=000000&color_url=666633&color_border=666633\n",
      "Full URL : http://pagead2.googlesyndication.com/pagead/ads?client=ca-pub-2309191948673629&random=1084443430285&lmt=1082467020&format=468x60_as&output=html&url=http%3A%2F%2Fwww.ethereal.com%2Fdownload.html&color_bg=FFFFFF&color_text=333333&color_link=000000&color_url=666633&color_border=666633\n",
      "----------------------------------------\n"
     ]
    }
   ],
   "source": [
    "!python assignment3.py"
   ]
  },
  {
   "cell_type": "code",
   "execution_count": 8,
   "id": "1baa946a-9d81-4f54-af82-8f2969d33fd9",
   "metadata": {},
   "outputs": [
    {
     "name": "stdout",
     "output_type": "stream",
     "text": [
      "assignment4.py created!\n"
     ]
    }
   ],
   "source": [
    "code = '''import pyshark\n",
    "from collections import Counter\n",
    "\n",
    "# Optional: Set TShark path if needed\n",
    "# import pyshark.tshark.tshark\n",
    "# pyshark.tshark.tshark.get_tshark_path = lambda: \"C:\\\\\\\\Program Files\\\\\\\\Wireshark\\\\\\\\tshark.exe\"\n",
    "\n",
    "# Load only DNS packets\n",
    "cap = pyshark.FileCapture(\"http.cap\", display_filter=\"dns\")\n",
    "\n",
    "dns_counter = Counter()\n",
    "\n",
    "print(\"Tracking DNS Queries...\")\n",
    "\n",
    "for packet in cap:\n",
    "    try:\n",
    "        domain = packet.dns.qry_name\n",
    "        dns_counter[domain] += 1\n",
    "    except AttributeError:\n",
    "        continue\n",
    "\n",
    "print(\"\\\\nTop 10 Most Queried Domains:\")\n",
    "for domain, count in dns_counter.most_common(10):\n",
    "    print(f\"{domain} -> {count} times\")\n",
    "'''\n",
    "\n",
    "# Save to assignment4.py\n",
    "with open(\"assignment4.py\", \"w\", encoding=\"utf-8\") as f:\n",
    "    f.write(code)\n",
    "\n",
    "print(\"assignment4.py created!\")\n"
   ]
  },
  {
   "cell_type": "code",
   "execution_count": 9,
   "id": "16b11df6-e249-44f3-9903-9bacd95615c9",
   "metadata": {},
   "outputs": [
    {
     "name": "stdout",
     "output_type": "stream",
     "text": [
      "Tracking DNS Queries...\n",
      "\n",
      "Top 10 Most Queried Domains:\n",
      "pagead2.googlesyndication.com -> 2 times\n"
     ]
    }
   ],
   "source": [
    "!python assignment4.py"
   ]
  },
  {
   "cell_type": "code",
   "execution_count": 10,
   "id": "2c573c44-9bcf-4080-87c2-6295117fea13",
   "metadata": {},
   "outputs": [
    {
     "name": "stdout",
     "output_type": "stream",
     "text": [
      "assignment5.py created!\n"
     ]
    }
   ],
   "source": [
    "code = '''import pyshark\n",
    "\n",
    "interface_name = 'Wi-Fi'  # Replace if needed\n",
    "\n",
    "print(\"Capturing packets on:\", interface_name)\n",
    "\n",
    "capture = pyshark.LiveCapture(interface=interface_name, display_filter='tcp.port == 80')\n",
    "\n",
    "packet_count = 0\n",
    "for packet in capture.sniff_continuously():\n",
    "    try:\n",
    "        print(f\"\\\\nPacket {packet_count + 1}\")\n",
    "        print(f\"  • Source: {packet.ip.src}\")\n",
    "        print(f\"  • Destination: {packet.ip.dst}\")\n",
    "        print(f\"  • Transport: {packet.transport_layer}\")\n",
    "        print(f\"  • Length: {packet.length}\")\n",
    "        print(\"-\" * 40)\n",
    "        packet_count += 1\n",
    "        if packet_count == 10:\n",
    "            break\n",
    "    except AttributeError:\n",
    "        continue\n",
    "'''\n",
    "\n",
    "with open(\"assignment5.py\", \"w\", encoding=\"utf-8\") as f:\n",
    "    f.write(code)\n",
    "\n",
    "print(\"assignment5.py created!\")\n"
   ]
  },
  {
   "cell_type": "code",
   "execution_count": 12,
   "id": "523a8166-827f-4ac1-8c29-3065ab36b305",
   "metadata": {},
   "outputs": [
    {
     "name": "stdout",
     "output_type": "stream",
     "text": [
      "Capturing packets on: Wi-Fi\n",
      "\n",
      "Packet 1\n",
      "  • Source: 192.168.105.225\n",
      "  • Destination: 91.108.56.124\n",
      "  • Transport: TCP\n",
      "  • Length: 66\n",
      "----------------------------------------\n",
      "\n",
      "Packet 2\n",
      "  • Source: 192.168.105.225\n",
      "  • Destination: 91.108.56.124\n",
      "  • Transport: TCP\n",
      "  • Length: 66\n",
      "----------------------------------------\n",
      "\n",
      "Packet 3\n",
      "  • Source: 192.168.105.225\n",
      "  • Destination: 91.108.56.124\n",
      "  • Transport: TCP\n",
      "  • Length: 348\n",
      "----------------------------------------\n",
      "\n",
      "Packet 4\n",
      "  • Source: 192.168.105.225\n",
      "  • Destination: 91.108.56.124\n",
      "  • Transport: TCP\n",
      "  • Length: 66\n",
      "----------------------------------------\n",
      "\n",
      "Packet 5\n",
      "  • Source: 91.108.56.124\n",
      "  • Destination: 192.168.105.225\n",
      "  • Transport: TCP\n",
      "  • Length: 66\n",
      "----------------------------------------\n",
      "\n",
      "Packet 6\n",
      "  • Source: 91.108.56.124\n",
      "  • Destination: 192.168.105.225\n",
      "  • Transport: TCP\n",
      "  • Length: 66\n",
      "----------------------------------------\n",
      "\n",
      "Packet 7\n",
      "  • Source: 91.108.56.124\n",
      "  • Destination: 192.168.105.225\n",
      "  • Transport: TCP\n",
      "  • Length: 66\n",
      "----------------------------------------\n",
      "\n",
      "Packet 8\n",
      "  • Source: 91.108.56.124\n",
      "  • Destination: 192.168.105.225\n",
      "  • Transport: TCP\n",
      "  • Length: 66\n",
      "----------------------------------------\n",
      "\n",
      "Packet 9\n",
      "  • Source: 192.168.105.225\n",
      "  • Destination: 91.108.56.124\n",
      "  • Transport: TCP\n",
      "  • Length: 66\n",
      "----------------------------------------\n",
      "\n",
      "Packet 10\n",
      "  • Source: 192.168.105.225\n",
      "  • Destination: 91.108.56.124\n",
      "  • Transport: TCP\n",
      "  • Length: 66\n",
      "----------------------------------------\n"
     ]
    }
   ],
   "source": [
    "!python assignment5.py"
   ]
  },
  {
   "cell_type": "code",
   "execution_count": null,
   "id": "33e567e9-e1b1-4c05-8b1a-4f3e8af10f21",
   "metadata": {},
   "outputs": [],
   "source": []
  }
 ],
 "metadata": {
  "kernelspec": {
   "display_name": "Python 3 (ipykernel)",
   "language": "python",
   "name": "python3"
  },
  "language_info": {
   "codemirror_mode": {
    "name": "ipython",
    "version": 3
   },
   "file_extension": ".py",
   "mimetype": "text/x-python",
   "name": "python",
   "nbconvert_exporter": "python",
   "pygments_lexer": "ipython3",
   "version": "3.13.5"
  }
 },
 "nbformat": 4,
 "nbformat_minor": 5
}
