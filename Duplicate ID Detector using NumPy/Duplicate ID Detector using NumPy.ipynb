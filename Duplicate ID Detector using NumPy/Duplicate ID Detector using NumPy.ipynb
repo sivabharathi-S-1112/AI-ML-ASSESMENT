{
 "cells": [
  {
   "cell_type": "code",
   "execution_count": 1,
   "id": "379289b3-345b-436b-9e54-e5dc8ef288c3",
   "metadata": {},
   "outputs": [],
   "source": [
    "#Duplicate ID Detector using NumPy\n",
    "\n",
    "#Description:\n",
    "# This program helps detect duplicate student IDs.\n",
    "# The first occurrence of an ID is marked as False,\n",
    "# and all repeated IDs are marked as True using NumPy."
   ]
  },
  {
   "cell_type": "code",
   "execution_count": 2,
   "id": "48987050-e33d-40da-9bc4-3a232171fef5",
   "metadata": {},
   "outputs": [],
   "source": [
    "import numpy as np"
   ]
  },
  {
   "cell_type": "code",
   "execution_count": 3,
   "id": "fe53a8ac-9c57-4067-935e-ab8361a7e683",
   "metadata": {},
   "outputs": [],
   "source": [
    "def mark_duplicates(arr):\n",
    "    _, first_indices = np.unique(arr, return_index=True)\n",
    "    result = np.ones(len(arr), dtype=bool)\n",
    "    result[first_indices] = False\n",
    "    return result"
   ]
  },
  {
   "cell_type": "code",
   "execution_count": 4,
   "id": "785b6f78-d09e-4d0b-bc3e-70c7b12c145f",
   "metadata": {},
   "outputs": [
    {
     "name": "stdin",
     "output_type": "stream",
     "text": [
      "Enter the number of test cases:  1\n"
     ]
    }
   ],
   "source": [
    "test_cases = int(input(\"Enter the number of test cases: \"))"
   ]
  },
  {
   "cell_type": "code",
   "execution_count": 5,
   "id": "c9d82eba-7c6f-4c5f-9b7f-76162c295905",
   "metadata": {},
   "outputs": [
    {
     "name": "stdin",
     "output_type": "stream",
     "text": [
      "Enter the student IDs for test case 1 (space-separated):  1 2 4 2 6 7 1 4 5 9 2 3 11 10 3\n"
     ]
    },
    {
     "name": "stdout",
     "output_type": "stream",
     "text": [
      "Output: [False False False  True False False  True  True False False  True False\n",
      " False False  True]\n"
     ]
    }
   ],
   "source": [
    "for i in range(test_cases):\n",
    "    user_input = input(f\"Enter the student IDs for test case {i+1} (space-separated): \")\n",
    "    arr = np.array(list(map(int, user_input.split())))\n",
    "    print(\"Output:\", mark_duplicates(arr))"
   ]
  }
 ],
 "metadata": {
  "kernelspec": {
   "display_name": "Python 3 (ipykernel)",
   "language": "python",
   "name": "python3"
  },
  "language_info": {
   "codemirror_mode": {
    "name": "ipython",
    "version": 3
   },
   "file_extension": ".py",
   "mimetype": "text/x-python",
   "name": "python",
   "nbconvert_exporter": "python",
   "pygments_lexer": "ipython3",
   "version": "3.13.5"
  }
 },
 "nbformat": 4,
 "nbformat_minor": 5
}
